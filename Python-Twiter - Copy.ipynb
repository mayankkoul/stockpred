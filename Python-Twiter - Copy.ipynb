{
 "cells": [
  {
   "cell_type": "code",
   "execution_count": null,
   "metadata": {},
   "outputs": [],
   "source": [
    "import GetOldTweets3 as got\n",
    "from __future__ import print_function # Python 2/3 compatibility\n",
    "import boto3\n",
    "import json\n",
    "import decimal\n",
    "import time\n",
    "def scrapetweet(fromdate,todate):\n",
    "    dynamodb = boto3.resource('dynamodb', region_name='us-west-2', endpoint_url=\"http://localhost:8000\")\n",
    "    table = dynamodb.Table('Tweet_Data')\n",
    "    keyword_list=[\"I am\",\"makes me\",\"i'm\",\"feel\"]\n",
    "    states_list=['Alabama','Alaska','Arizona','Arkansas','California','Colorado',\n",
    "             'Connecticut','Delaware','Florida','Georgia','Hawaii','Idaho', \n",
    "             'Illinois','Indiana','Iowa','Kansas','Kentucky','Louisiana',\n",
    "             'Maine' 'Maryland','Massachusetts','Michigan','Minnesota',\n",
    "             'Mississippi', 'Missouri','Montana','Nebraska','Nevada',\n",
    "             'New Hampshire','New Jersey','New Mexico','New York',\n",
    "             'North Carolina','North Dakota','Ohio',    \n",
    "             'Oklahoma','Oregon','Pennsylvania','Rhode Island',\n",
    "             'South  Carolina','South Dakota','Tennessee','Texas','Utah',\n",
    "             'Vermont','Virginia','Washington','West Virginia',\n",
    "             'Wisconsin','Wyoming']\n",
    "    tweets_uploaded=0\n",
    "    for word in keyword_list:\n",
    "        for state in states_list:\n",
    "            print(\"Sending Request Again\")\n",
    "            tweetCriteria = got.manager.TweetCriteria().setQuerySearch(word)\\\n",
    "                                                       .setSince(fromdate)\\\n",
    "                                                       .setUntil(todate)\\\n",
    "                                                       .setNear(state + \", USA\")\\\n",
    "                                                       .setMaxTweets(100)\\\n",
    "                                                       .setEmoji(\"unicode\")\n",
    "            tweets = got.manager.TweetManager.getTweets(tweetCriteria)\n",
    "            tweet_list=[tweet for tweet in tweets]\n",
    "            #cleaning here\n",
    "            #predict the polarity of the tweet\n",
    "            for tweet in tweet_list:\n",
    "                if tweet.retweeted:\n",
    "                    pass\n",
    "                else:\n",
    "                    id_tweet=tweet.id\n",
    "                    tweet_datetime=tweet.date\n",
    "                    tweet_content=tweet.text\n",
    "                    table.put_item(Item={'id_tweet':id_tweet ,'tweet_datetime': tweet_datetime,'tweet_content': tweet_content,})\n",
    "            tweets_uploaded=tweets_uploaded+len(tweet_list)\n",
    "            print(\"Tweets Uploaded: {}\".format(tweets_uploaded))\n",
    "            print(\"Going to sleep for 15 mins\")\n",
    "            time.sleep(920)\n",
    "            \n",
    "    text=\"uploaded\"\n",
    "    return text"
   ]
  },
  {
   "cell_type": "code",
   "execution_count": null,
   "metadata": {},
   "outputs": [],
   "source": [
    "def gettweetsbydate(date):\n",
    "    "
   ]
  }
 ],
 "metadata": {
  "kernelspec": {
   "display_name": "Python 3",
   "language": "python",
   "name": "python3"
  },
  "language_info": {
   "codemirror_mode": {
    "name": "ipython",
    "version": 3
   },
   "file_extension": ".py",
   "mimetype": "text/x-python",
   "name": "python",
   "nbconvert_exporter": "python",
   "pygments_lexer": "ipython3",
   "version": "3.7.4"
  }
 },
 "nbformat": 4,
 "nbformat_minor": 2
}
